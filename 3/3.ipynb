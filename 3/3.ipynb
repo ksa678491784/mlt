{
 "metadata": {
  "language_info": {
   "codemirror_mode": {
    "name": "ipython",
    "version": 3
   },
   "file_extension": ".py",
   "mimetype": "text/x-python",
   "name": "python",
   "nbconvert_exporter": "python",
   "pygments_lexer": "ipython3",
   "version": "3.9.2-final"
  },
  "orig_nbformat": 2,
  "kernelspec": {
   "name": "python39264bitcd4a187e7cdc43a6bab69bac1ce1a825",
   "display_name": "Python 3.9.2 64-bit"
  }
 },
 "nbformat": 4,
 "nbformat_minor": 2,
 "cells": [
  {
   "source": [
    "# Загрузка данных"
   ],
   "cell_type": "markdown",
   "metadata": {}
  },
  {
   "cell_type": "code",
   "execution_count": 1,
   "metadata": {},
   "outputs": [
    {
     "output_type": "display_data",
     "data": {
      "text/plain": "           Suburb             Address  Rooms Type      Price Method  \\\n0      Abbotsford       68 Studley St      2    h        NaN     SS   \n1      Abbotsford        85 Turner St      2    h  1480000.0      S   \n2      Abbotsford     25 Bloomburg St      2    h  1035000.0      S   \n3      Abbotsford  18/659 Victoria St      3    u        NaN     VB   \n4      Abbotsford        5 Charles St      3    h  1465000.0     SP   \n...           ...                 ...    ...  ...        ...    ...   \n34852  Yarraville         13 Burns St      4    h  1480000.0     PI   \n34853  Yarraville       29A Murray St      2    h   888000.0     SP   \n34854  Yarraville      147A Severn St      2    t   705000.0      S   \n34855  Yarraville    12/37 Stephen St      3    h  1140000.0     SP   \n34856  Yarraville    3 Tarrengower St      2    h  1020000.0     PI   \n\n             SellerG        Date  Distance  Postcode  ...  Bathroom  Car  \\\n0             Jellis   3/09/2016       2.5    3067.0  ...       1.0  1.0   \n1             Biggin   3/12/2016       2.5    3067.0  ...       1.0  1.0   \n2             Biggin   4/02/2016       2.5    3067.0  ...       1.0  0.0   \n3             Rounds   4/02/2016       2.5    3067.0  ...       2.0  1.0   \n4             Biggin   4/03/2017       2.5    3067.0  ...       2.0  0.0   \n...              ...         ...       ...       ...  ...       ...  ...   \n34852            Jas  24/02/2018       6.3    3013.0  ...       1.0  3.0   \n34853        Sweeney  24/02/2018       6.3    3013.0  ...       2.0  1.0   \n34854            Jas  24/02/2018       6.3    3013.0  ...       1.0  2.0   \n34855  hockingstuart  24/02/2018       6.3    3013.0  ...       NaN  NaN   \n34856             RW  24/02/2018       6.3    3013.0  ...       1.0  0.0   \n\n       Landsize  BuildingArea  YearBuilt               CouncilArea Lattitude  \\\n0         126.0           NaN        NaN        Yarra City Council -37.80140   \n1         202.0           NaN        NaN        Yarra City Council -37.79960   \n2         156.0          79.0     1900.0        Yarra City Council -37.80790   \n3           0.0           NaN        NaN        Yarra City Council -37.81140   \n4         134.0         150.0     1900.0        Yarra City Council -37.80930   \n...         ...           ...        ...                       ...       ...   \n34852     593.0           NaN        NaN  Maribyrnong City Council -37.81053   \n34853      98.0         104.0     2018.0  Maribyrnong City Council -37.81551   \n34854     220.0         120.0     2000.0  Maribyrnong City Council -37.82286   \n34855       NaN           NaN        NaN  Maribyrnong City Council       NaN   \n34856     250.0         103.0     1930.0  Maribyrnong City Council -37.81810   \n\n       Longtitude             Regionname Propertycount  \n0       144.99580  Northern Metropolitan        4019.0  \n1       144.99840  Northern Metropolitan        4019.0  \n2       144.99340  Northern Metropolitan        4019.0  \n3       145.01160  Northern Metropolitan        4019.0  \n4       144.99440  Northern Metropolitan        4019.0  \n...           ...                    ...           ...  \n34852   144.88467   Western Metropolitan        6543.0  \n34853   144.88826   Western Metropolitan        6543.0  \n34854   144.87856   Western Metropolitan        6543.0  \n34855         NaN   Western Metropolitan        6543.0  \n34856   144.89351   Western Metropolitan        6543.0  \n\n[34857 rows x 21 columns]",
      "text/html": "<div>\n<style scoped>\n    .dataframe tbody tr th:only-of-type {\n        vertical-align: middle;\n    }\n\n    .dataframe tbody tr th {\n        vertical-align: top;\n    }\n\n    .dataframe thead th {\n        text-align: right;\n    }\n</style>\n<table border=\"1\" class=\"dataframe\">\n  <thead>\n    <tr style=\"text-align: right;\">\n      <th></th>\n      <th>Suburb</th>\n      <th>Address</th>\n      <th>Rooms</th>\n      <th>Type</th>\n      <th>Price</th>\n      <th>Method</th>\n      <th>SellerG</th>\n      <th>Date</th>\n      <th>Distance</th>\n      <th>Postcode</th>\n      <th>...</th>\n      <th>Bathroom</th>\n      <th>Car</th>\n      <th>Landsize</th>\n      <th>BuildingArea</th>\n      <th>YearBuilt</th>\n      <th>CouncilArea</th>\n      <th>Lattitude</th>\n      <th>Longtitude</th>\n      <th>Regionname</th>\n      <th>Propertycount</th>\n    </tr>\n  </thead>\n  <tbody>\n    <tr>\n      <th>0</th>\n      <td>Abbotsford</td>\n      <td>68 Studley St</td>\n      <td>2</td>\n      <td>h</td>\n      <td>NaN</td>\n      <td>SS</td>\n      <td>Jellis</td>\n      <td>3/09/2016</td>\n      <td>2.5</td>\n      <td>3067.0</td>\n      <td>...</td>\n      <td>1.0</td>\n      <td>1.0</td>\n      <td>126.0</td>\n      <td>NaN</td>\n      <td>NaN</td>\n      <td>Yarra City Council</td>\n      <td>-37.80140</td>\n      <td>144.99580</td>\n      <td>Northern Metropolitan</td>\n      <td>4019.0</td>\n    </tr>\n    <tr>\n      <th>1</th>\n      <td>Abbotsford</td>\n      <td>85 Turner St</td>\n      <td>2</td>\n      <td>h</td>\n      <td>1480000.0</td>\n      <td>S</td>\n      <td>Biggin</td>\n      <td>3/12/2016</td>\n      <td>2.5</td>\n      <td>3067.0</td>\n      <td>...</td>\n      <td>1.0</td>\n      <td>1.0</td>\n      <td>202.0</td>\n      <td>NaN</td>\n      <td>NaN</td>\n      <td>Yarra City Council</td>\n      <td>-37.79960</td>\n      <td>144.99840</td>\n      <td>Northern Metropolitan</td>\n      <td>4019.0</td>\n    </tr>\n    <tr>\n      <th>2</th>\n      <td>Abbotsford</td>\n      <td>25 Bloomburg St</td>\n      <td>2</td>\n      <td>h</td>\n      <td>1035000.0</td>\n      <td>S</td>\n      <td>Biggin</td>\n      <td>4/02/2016</td>\n      <td>2.5</td>\n      <td>3067.0</td>\n      <td>...</td>\n      <td>1.0</td>\n      <td>0.0</td>\n      <td>156.0</td>\n      <td>79.0</td>\n      <td>1900.0</td>\n      <td>Yarra City Council</td>\n      <td>-37.80790</td>\n      <td>144.99340</td>\n      <td>Northern Metropolitan</td>\n      <td>4019.0</td>\n    </tr>\n    <tr>\n      <th>3</th>\n      <td>Abbotsford</td>\n      <td>18/659 Victoria St</td>\n      <td>3</td>\n      <td>u</td>\n      <td>NaN</td>\n      <td>VB</td>\n      <td>Rounds</td>\n      <td>4/02/2016</td>\n      <td>2.5</td>\n      <td>3067.0</td>\n      <td>...</td>\n      <td>2.0</td>\n      <td>1.0</td>\n      <td>0.0</td>\n      <td>NaN</td>\n      <td>NaN</td>\n      <td>Yarra City Council</td>\n      <td>-37.81140</td>\n      <td>145.01160</td>\n      <td>Northern Metropolitan</td>\n      <td>4019.0</td>\n    </tr>\n    <tr>\n      <th>4</th>\n      <td>Abbotsford</td>\n      <td>5 Charles St</td>\n      <td>3</td>\n      <td>h</td>\n      <td>1465000.0</td>\n      <td>SP</td>\n      <td>Biggin</td>\n      <td>4/03/2017</td>\n      <td>2.5</td>\n      <td>3067.0</td>\n      <td>...</td>\n      <td>2.0</td>\n      <td>0.0</td>\n      <td>134.0</td>\n      <td>150.0</td>\n      <td>1900.0</td>\n      <td>Yarra City Council</td>\n      <td>-37.80930</td>\n      <td>144.99440</td>\n      <td>Northern Metropolitan</td>\n      <td>4019.0</td>\n    </tr>\n    <tr>\n      <th>...</th>\n      <td>...</td>\n      <td>...</td>\n      <td>...</td>\n      <td>...</td>\n      <td>...</td>\n      <td>...</td>\n      <td>...</td>\n      <td>...</td>\n      <td>...</td>\n      <td>...</td>\n      <td>...</td>\n      <td>...</td>\n      <td>...</td>\n      <td>...</td>\n      <td>...</td>\n      <td>...</td>\n      <td>...</td>\n      <td>...</td>\n      <td>...</td>\n      <td>...</td>\n      <td>...</td>\n    </tr>\n    <tr>\n      <th>34852</th>\n      <td>Yarraville</td>\n      <td>13 Burns St</td>\n      <td>4</td>\n      <td>h</td>\n      <td>1480000.0</td>\n      <td>PI</td>\n      <td>Jas</td>\n      <td>24/02/2018</td>\n      <td>6.3</td>\n      <td>3013.0</td>\n      <td>...</td>\n      <td>1.0</td>\n      <td>3.0</td>\n      <td>593.0</td>\n      <td>NaN</td>\n      <td>NaN</td>\n      <td>Maribyrnong City Council</td>\n      <td>-37.81053</td>\n      <td>144.88467</td>\n      <td>Western Metropolitan</td>\n      <td>6543.0</td>\n    </tr>\n    <tr>\n      <th>34853</th>\n      <td>Yarraville</td>\n      <td>29A Murray St</td>\n      <td>2</td>\n      <td>h</td>\n      <td>888000.0</td>\n      <td>SP</td>\n      <td>Sweeney</td>\n      <td>24/02/2018</td>\n      <td>6.3</td>\n      <td>3013.0</td>\n      <td>...</td>\n      <td>2.0</td>\n      <td>1.0</td>\n      <td>98.0</td>\n      <td>104.0</td>\n      <td>2018.0</td>\n      <td>Maribyrnong City Council</td>\n      <td>-37.81551</td>\n      <td>144.88826</td>\n      <td>Western Metropolitan</td>\n      <td>6543.0</td>\n    </tr>\n    <tr>\n      <th>34854</th>\n      <td>Yarraville</td>\n      <td>147A Severn St</td>\n      <td>2</td>\n      <td>t</td>\n      <td>705000.0</td>\n      <td>S</td>\n      <td>Jas</td>\n      <td>24/02/2018</td>\n      <td>6.3</td>\n      <td>3013.0</td>\n      <td>...</td>\n      <td>1.0</td>\n      <td>2.0</td>\n      <td>220.0</td>\n      <td>120.0</td>\n      <td>2000.0</td>\n      <td>Maribyrnong City Council</td>\n      <td>-37.82286</td>\n      <td>144.87856</td>\n      <td>Western Metropolitan</td>\n      <td>6543.0</td>\n    </tr>\n    <tr>\n      <th>34855</th>\n      <td>Yarraville</td>\n      <td>12/37 Stephen St</td>\n      <td>3</td>\n      <td>h</td>\n      <td>1140000.0</td>\n      <td>SP</td>\n      <td>hockingstuart</td>\n      <td>24/02/2018</td>\n      <td>6.3</td>\n      <td>3013.0</td>\n      <td>...</td>\n      <td>NaN</td>\n      <td>NaN</td>\n      <td>NaN</td>\n      <td>NaN</td>\n      <td>NaN</td>\n      <td>Maribyrnong City Council</td>\n      <td>NaN</td>\n      <td>NaN</td>\n      <td>Western Metropolitan</td>\n      <td>6543.0</td>\n    </tr>\n    <tr>\n      <th>34856</th>\n      <td>Yarraville</td>\n      <td>3 Tarrengower St</td>\n      <td>2</td>\n      <td>h</td>\n      <td>1020000.0</td>\n      <td>PI</td>\n      <td>RW</td>\n      <td>24/02/2018</td>\n      <td>6.3</td>\n      <td>3013.0</td>\n      <td>...</td>\n      <td>1.0</td>\n      <td>0.0</td>\n      <td>250.0</td>\n      <td>103.0</td>\n      <td>1930.0</td>\n      <td>Maribyrnong City Council</td>\n      <td>-37.81810</td>\n      <td>144.89351</td>\n      <td>Western Metropolitan</td>\n      <td>6543.0</td>\n    </tr>\n  </tbody>\n</table>\n<p>34857 rows × 21 columns</p>\n</div>"
     },
     "metadata": {}
    },
    {
     "output_type": "display_data",
     "data": {
      "text/plain": "Suburb            object\nAddress           object\nRooms              int64\nType              object\nPrice            float64\nMethod            object\nSellerG           object\nDate              object\nDistance         float64\nPostcode         float64\nBedroom2         float64\nBathroom         float64\nCar              float64\nLandsize         float64\nBuildingArea     float64\nYearBuilt        float64\nCouncilArea       object\nLattitude        float64\nLongtitude       float64\nRegionname        object\nPropertycount    float64\ndtype: object"
     },
     "metadata": {}
    },
    {
     "output_type": "display_data",
     "data": {
      "text/plain": "Suburb               0\nAddress              0\nRooms                0\nType                 0\nPrice             7610\nMethod               0\nSellerG              0\nDate                 0\nDistance             1\nPostcode             1\nBedroom2          8217\nBathroom          8226\nCar               8728\nLandsize         11810\nBuildingArea     21115\nYearBuilt        19306\nCouncilArea          3\nLattitude         7976\nLongtitude        7976\nRegionname           3\nPropertycount        3\ndtype: int64"
     },
     "metadata": {}
    }
   ],
   "source": [
    "import pandas as pd\n",
    "import json\n",
    "\n",
    "orig_data = pd.read_csv(\"../2/melbourne_housing.csv\")\n",
    "display(orig_data, orig_data.dtypes, orig_data.isnull().sum())"
   ]
  },
  {
   "cell_type": "code",
   "execution_count": 2,
   "metadata": {},
   "outputs": [
    {
     "output_type": "display_data",
     "data": {
      "text/plain": "      Type  Rooms    Price  Distance  Postcode  Bedroom2  Bathroom\n1        h      2  1480000         2      3067         2         1\n2        h      2  1035000         2      3067         2         1\n4        h      3  1465000         2      3067         3         2\n5        h      3   850000         2      3067         3         2\n6        h      4  1600000         2      3067         3         1\n...    ...    ...      ...       ...       ...       ...       ...\n34851    h      3  1101000         6      3013         3         1\n34852    h      4  1480000         6      3013         4         1\n34853    h      2   888000         6      3013         2         2\n34854    t      2   705000         6      3013         2         1\n34856    h      2  1020000         6      3013         2         1\n\n[20800 rows x 7 columns]",
      "text/html": "<div>\n<style scoped>\n    .dataframe tbody tr th:only-of-type {\n        vertical-align: middle;\n    }\n\n    .dataframe tbody tr th {\n        vertical-align: top;\n    }\n\n    .dataframe thead th {\n        text-align: right;\n    }\n</style>\n<table border=\"1\" class=\"dataframe\">\n  <thead>\n    <tr style=\"text-align: right;\">\n      <th></th>\n      <th>Type</th>\n      <th>Rooms</th>\n      <th>Price</th>\n      <th>Distance</th>\n      <th>Postcode</th>\n      <th>Bedroom2</th>\n      <th>Bathroom</th>\n    </tr>\n  </thead>\n  <tbody>\n    <tr>\n      <th>1</th>\n      <td>h</td>\n      <td>2</td>\n      <td>1480000</td>\n      <td>2</td>\n      <td>3067</td>\n      <td>2</td>\n      <td>1</td>\n    </tr>\n    <tr>\n      <th>2</th>\n      <td>h</td>\n      <td>2</td>\n      <td>1035000</td>\n      <td>2</td>\n      <td>3067</td>\n      <td>2</td>\n      <td>1</td>\n    </tr>\n    <tr>\n      <th>4</th>\n      <td>h</td>\n      <td>3</td>\n      <td>1465000</td>\n      <td>2</td>\n      <td>3067</td>\n      <td>3</td>\n      <td>2</td>\n    </tr>\n    <tr>\n      <th>5</th>\n      <td>h</td>\n      <td>3</td>\n      <td>850000</td>\n      <td>2</td>\n      <td>3067</td>\n      <td>3</td>\n      <td>2</td>\n    </tr>\n    <tr>\n      <th>6</th>\n      <td>h</td>\n      <td>4</td>\n      <td>1600000</td>\n      <td>2</td>\n      <td>3067</td>\n      <td>3</td>\n      <td>1</td>\n    </tr>\n    <tr>\n      <th>...</th>\n      <td>...</td>\n      <td>...</td>\n      <td>...</td>\n      <td>...</td>\n      <td>...</td>\n      <td>...</td>\n      <td>...</td>\n    </tr>\n    <tr>\n      <th>34851</th>\n      <td>h</td>\n      <td>3</td>\n      <td>1101000</td>\n      <td>6</td>\n      <td>3013</td>\n      <td>3</td>\n      <td>1</td>\n    </tr>\n    <tr>\n      <th>34852</th>\n      <td>h</td>\n      <td>4</td>\n      <td>1480000</td>\n      <td>6</td>\n      <td>3013</td>\n      <td>4</td>\n      <td>1</td>\n    </tr>\n    <tr>\n      <th>34853</th>\n      <td>h</td>\n      <td>2</td>\n      <td>888000</td>\n      <td>6</td>\n      <td>3013</td>\n      <td>2</td>\n      <td>2</td>\n    </tr>\n    <tr>\n      <th>34854</th>\n      <td>t</td>\n      <td>2</td>\n      <td>705000</td>\n      <td>6</td>\n      <td>3013</td>\n      <td>2</td>\n      <td>1</td>\n    </tr>\n    <tr>\n      <th>34856</th>\n      <td>h</td>\n      <td>2</td>\n      <td>1020000</td>\n      <td>6</td>\n      <td>3013</td>\n      <td>2</td>\n      <td>1</td>\n    </tr>\n  </tbody>\n</table>\n<p>20800 rows × 7 columns</p>\n</div>"
     },
     "metadata": {}
    },
    {
     "output_type": "display_data",
     "data": {
      "text/plain": "Type        object\nRooms        int64\nPrice        int64\nDistance     int64\nPostcode     int64\nBedroom2     int64\nBathroom     int64\ndtype: object"
     },
     "metadata": {}
    }
   ],
   "source": [
    "import numpy as np\n",
    "\n",
    "data = orig_data[[\"Type\", \"Rooms\", \"Price\", \"Distance\", \"Postcode\", \"Bedroom2\", \"Bathroom\"]].dropna(axis=0, how='any')\n",
    "data = data.astype({ x: np.int64 for x in data.columns if x not in [ \"Type\" ] })\n",
    "\n",
    "display(data, data.dtypes)"
   ]
  },
  {
   "cell_type": "code",
   "execution_count": 3,
   "metadata": {},
   "outputs": [
    {
     "output_type": "execute_result",
     "data": {
      "text/plain": [
       "array(['h', 'u', 't'], dtype=object)"
      ]
     },
     "metadata": {},
     "execution_count": 3
    }
   ],
   "source": [
    "data[\"Type\"].unique()"
   ]
  },
  {
   "cell_type": "code",
   "execution_count": 4,
   "metadata": {},
   "outputs": [
    {
     "output_type": "display_data",
     "data": {
      "text/plain": "       Type  Rooms    Price  Distance  Postcode  Bedroom2  Bathroom\n1         0      2  1480000         2      3067         2         1\n2         0      2  1035000         2      3067         2         1\n4         0      3  1465000         2      3067         3         2\n5         0      3   850000         2      3067         3         2\n6         0      4  1600000         2      3067         3         1\n...     ...    ...      ...       ...       ...       ...       ...\n34851     0      3  1101000         6      3013         3         1\n34852     0      4  1480000         6      3013         4         1\n34853     0      2   888000         6      3013         2         2\n34854     1      2   705000         6      3013         2         1\n34856     0      2  1020000         6      3013         2         1\n\n[20800 rows x 7 columns]",
      "text/html": "<div>\n<style scoped>\n    .dataframe tbody tr th:only-of-type {\n        vertical-align: middle;\n    }\n\n    .dataframe tbody tr th {\n        vertical-align: top;\n    }\n\n    .dataframe thead th {\n        text-align: right;\n    }\n</style>\n<table border=\"1\" class=\"dataframe\">\n  <thead>\n    <tr style=\"text-align: right;\">\n      <th></th>\n      <th>Type</th>\n      <th>Rooms</th>\n      <th>Price</th>\n      <th>Distance</th>\n      <th>Postcode</th>\n      <th>Bedroom2</th>\n      <th>Bathroom</th>\n    </tr>\n  </thead>\n  <tbody>\n    <tr>\n      <th>1</th>\n      <td>0</td>\n      <td>2</td>\n      <td>1480000</td>\n      <td>2</td>\n      <td>3067</td>\n      <td>2</td>\n      <td>1</td>\n    </tr>\n    <tr>\n      <th>2</th>\n      <td>0</td>\n      <td>2</td>\n      <td>1035000</td>\n      <td>2</td>\n      <td>3067</td>\n      <td>2</td>\n      <td>1</td>\n    </tr>\n    <tr>\n      <th>4</th>\n      <td>0</td>\n      <td>3</td>\n      <td>1465000</td>\n      <td>2</td>\n      <td>3067</td>\n      <td>3</td>\n      <td>2</td>\n    </tr>\n    <tr>\n      <th>5</th>\n      <td>0</td>\n      <td>3</td>\n      <td>850000</td>\n      <td>2</td>\n      <td>3067</td>\n      <td>3</td>\n      <td>2</td>\n    </tr>\n    <tr>\n      <th>6</th>\n      <td>0</td>\n      <td>4</td>\n      <td>1600000</td>\n      <td>2</td>\n      <td>3067</td>\n      <td>3</td>\n      <td>1</td>\n    </tr>\n    <tr>\n      <th>...</th>\n      <td>...</td>\n      <td>...</td>\n      <td>...</td>\n      <td>...</td>\n      <td>...</td>\n      <td>...</td>\n      <td>...</td>\n    </tr>\n    <tr>\n      <th>34851</th>\n      <td>0</td>\n      <td>3</td>\n      <td>1101000</td>\n      <td>6</td>\n      <td>3013</td>\n      <td>3</td>\n      <td>1</td>\n    </tr>\n    <tr>\n      <th>34852</th>\n      <td>0</td>\n      <td>4</td>\n      <td>1480000</td>\n      <td>6</td>\n      <td>3013</td>\n      <td>4</td>\n      <td>1</td>\n    </tr>\n    <tr>\n      <th>34853</th>\n      <td>0</td>\n      <td>2</td>\n      <td>888000</td>\n      <td>6</td>\n      <td>3013</td>\n      <td>2</td>\n      <td>2</td>\n    </tr>\n    <tr>\n      <th>34854</th>\n      <td>1</td>\n      <td>2</td>\n      <td>705000</td>\n      <td>6</td>\n      <td>3013</td>\n      <td>2</td>\n      <td>1</td>\n    </tr>\n    <tr>\n      <th>34856</th>\n      <td>0</td>\n      <td>2</td>\n      <td>1020000</td>\n      <td>6</td>\n      <td>3013</td>\n      <td>2</td>\n      <td>1</td>\n    </tr>\n  </tbody>\n</table>\n<p>20800 rows × 7 columns</p>\n</div>"
     },
     "metadata": {}
    },
    {
     "output_type": "display_data",
     "data": {
      "text/plain": "array(['h', 't', 'u'], dtype=object)"
     },
     "metadata": {}
    }
   ],
   "source": [
    "from sklearn.preprocessing import LabelEncoder\n",
    "\n",
    "type_encoder = LabelEncoder()\n",
    "data[\"Type\"] = type_encoder.fit_transform(data[\"Type\"])\n",
    "\n",
    "display(data)\n",
    "display(type_encoder.classes_)"
   ]
  },
  {
   "source": [
    "# Разделите выборки на обучающую и тестовую"
   ],
   "cell_type": "markdown",
   "metadata": {}
  },
  {
   "cell_type": "code",
   "execution_count": 5,
   "metadata": {},
   "outputs": [
    {
     "output_type": "display_data",
     "data": {
      "text/plain": "       Type  Rooms  Distance  Postcode  Bedroom2  Bathroom\n1         0      2         2      3067         2         1\n2         0      2         2      3067         2         1\n4         0      3         2      3067         3         2\n5         0      3         2      3067         3         2\n6         0      4         2      3067         3         1\n...     ...    ...       ...       ...       ...       ...\n34851     0      3         6      3013         3         1\n34852     0      4         6      3013         4         1\n34853     0      2         6      3013         2         2\n34854     1      2         6      3013         2         1\n34856     0      2         6      3013         2         1\n\n[20800 rows x 6 columns]",
      "text/html": "<div>\n<style scoped>\n    .dataframe tbody tr th:only-of-type {\n        vertical-align: middle;\n    }\n\n    .dataframe tbody tr th {\n        vertical-align: top;\n    }\n\n    .dataframe thead th {\n        text-align: right;\n    }\n</style>\n<table border=\"1\" class=\"dataframe\">\n  <thead>\n    <tr style=\"text-align: right;\">\n      <th></th>\n      <th>Type</th>\n      <th>Rooms</th>\n      <th>Distance</th>\n      <th>Postcode</th>\n      <th>Bedroom2</th>\n      <th>Bathroom</th>\n    </tr>\n  </thead>\n  <tbody>\n    <tr>\n      <th>1</th>\n      <td>0</td>\n      <td>2</td>\n      <td>2</td>\n      <td>3067</td>\n      <td>2</td>\n      <td>1</td>\n    </tr>\n    <tr>\n      <th>2</th>\n      <td>0</td>\n      <td>2</td>\n      <td>2</td>\n      <td>3067</td>\n      <td>2</td>\n      <td>1</td>\n    </tr>\n    <tr>\n      <th>4</th>\n      <td>0</td>\n      <td>3</td>\n      <td>2</td>\n      <td>3067</td>\n      <td>3</td>\n      <td>2</td>\n    </tr>\n    <tr>\n      <th>5</th>\n      <td>0</td>\n      <td>3</td>\n      <td>2</td>\n      <td>3067</td>\n      <td>3</td>\n      <td>2</td>\n    </tr>\n    <tr>\n      <th>6</th>\n      <td>0</td>\n      <td>4</td>\n      <td>2</td>\n      <td>3067</td>\n      <td>3</td>\n      <td>1</td>\n    </tr>\n    <tr>\n      <th>...</th>\n      <td>...</td>\n      <td>...</td>\n      <td>...</td>\n      <td>...</td>\n      <td>...</td>\n      <td>...</td>\n    </tr>\n    <tr>\n      <th>34851</th>\n      <td>0</td>\n      <td>3</td>\n      <td>6</td>\n      <td>3013</td>\n      <td>3</td>\n      <td>1</td>\n    </tr>\n    <tr>\n      <th>34852</th>\n      <td>0</td>\n      <td>4</td>\n      <td>6</td>\n      <td>3013</td>\n      <td>4</td>\n      <td>1</td>\n    </tr>\n    <tr>\n      <th>34853</th>\n      <td>0</td>\n      <td>2</td>\n      <td>6</td>\n      <td>3013</td>\n      <td>2</td>\n      <td>2</td>\n    </tr>\n    <tr>\n      <th>34854</th>\n      <td>1</td>\n      <td>2</td>\n      <td>6</td>\n      <td>3013</td>\n      <td>2</td>\n      <td>1</td>\n    </tr>\n    <tr>\n      <th>34856</th>\n      <td>0</td>\n      <td>2</td>\n      <td>6</td>\n      <td>3013</td>\n      <td>2</td>\n      <td>1</td>\n    </tr>\n  </tbody>\n</table>\n<p>20800 rows × 6 columns</p>\n</div>"
     },
     "metadata": {}
    },
    {
     "output_type": "display_data",
     "data": {
      "text/plain": "1        1480000\n2        1035000\n4        1465000\n5         850000\n6        1600000\n          ...   \n34851    1101000\n34852    1480000\n34853     888000\n34854     705000\n34856    1020000\nName: Price, Length: 20800, dtype: int64"
     },
     "metadata": {}
    }
   ],
   "source": [
    "data_X = data.drop(columns=[\"Price\"])\n",
    "data_Y = data[\"Price\"]\n",
    "\n",
    "display(data_X, data_Y)"
   ]
  },
  {
   "cell_type": "code",
   "execution_count": 6,
   "metadata": {},
   "outputs": [
    {
     "output_type": "display_data",
     "data": {
      "text/plain": "       Type  Rooms  Distance  Postcode  Bedroom2  Bathroom\n4237      0      2         1      3065         2         1\n5593      0      5         7      3079         4         2\n9269      0      3         3      3141         3         2\n3730      0      4        10      3084         3         2\n17854     0      2         6      3143         2         1\n...     ...    ...       ...       ...       ...       ...\n17905     2      3        10      3186         3         1\n27744     0      5         7      3040         5         3\n8584      1      2        11      3073         3         1\n19637     0      4        12      3073         4         1\n390       0      5         6      3143         8         2\n\n[14560 rows x 6 columns]",
      "text/html": "<div>\n<style scoped>\n    .dataframe tbody tr th:only-of-type {\n        vertical-align: middle;\n    }\n\n    .dataframe tbody tr th {\n        vertical-align: top;\n    }\n\n    .dataframe thead th {\n        text-align: right;\n    }\n</style>\n<table border=\"1\" class=\"dataframe\">\n  <thead>\n    <tr style=\"text-align: right;\">\n      <th></th>\n      <th>Type</th>\n      <th>Rooms</th>\n      <th>Distance</th>\n      <th>Postcode</th>\n      <th>Bedroom2</th>\n      <th>Bathroom</th>\n    </tr>\n  </thead>\n  <tbody>\n    <tr>\n      <th>4237</th>\n      <td>0</td>\n      <td>2</td>\n      <td>1</td>\n      <td>3065</td>\n      <td>2</td>\n      <td>1</td>\n    </tr>\n    <tr>\n      <th>5593</th>\n      <td>0</td>\n      <td>5</td>\n      <td>7</td>\n      <td>3079</td>\n      <td>4</td>\n      <td>2</td>\n    </tr>\n    <tr>\n      <th>9269</th>\n      <td>0</td>\n      <td>3</td>\n      <td>3</td>\n      <td>3141</td>\n      <td>3</td>\n      <td>2</td>\n    </tr>\n    <tr>\n      <th>3730</th>\n      <td>0</td>\n      <td>4</td>\n      <td>10</td>\n      <td>3084</td>\n      <td>3</td>\n      <td>2</td>\n    </tr>\n    <tr>\n      <th>17854</th>\n      <td>0</td>\n      <td>2</td>\n      <td>6</td>\n      <td>3143</td>\n      <td>2</td>\n      <td>1</td>\n    </tr>\n    <tr>\n      <th>...</th>\n      <td>...</td>\n      <td>...</td>\n      <td>...</td>\n      <td>...</td>\n      <td>...</td>\n      <td>...</td>\n    </tr>\n    <tr>\n      <th>17905</th>\n      <td>2</td>\n      <td>3</td>\n      <td>10</td>\n      <td>3186</td>\n      <td>3</td>\n      <td>1</td>\n    </tr>\n    <tr>\n      <th>27744</th>\n      <td>0</td>\n      <td>5</td>\n      <td>7</td>\n      <td>3040</td>\n      <td>5</td>\n      <td>3</td>\n    </tr>\n    <tr>\n      <th>8584</th>\n      <td>1</td>\n      <td>2</td>\n      <td>11</td>\n      <td>3073</td>\n      <td>3</td>\n      <td>1</td>\n    </tr>\n    <tr>\n      <th>19637</th>\n      <td>0</td>\n      <td>4</td>\n      <td>12</td>\n      <td>3073</td>\n      <td>4</td>\n      <td>1</td>\n    </tr>\n    <tr>\n      <th>390</th>\n      <td>0</td>\n      <td>5</td>\n      <td>6</td>\n      <td>3143</td>\n      <td>8</td>\n      <td>2</td>\n    </tr>\n  </tbody>\n</table>\n<p>14560 rows × 6 columns</p>\n</div>"
     },
     "metadata": {}
    },
    {
     "output_type": "display_data",
     "data": {
      "text/plain": "4237     1300000\n5593     1730000\n9269     2695000\n3730     2600000\n17854    1480000\n          ...   \n17905    1296000\n27744    1560000\n8584      490000\n19637     905000\n390      1525000\nName: Price, Length: 14560, dtype: int64"
     },
     "metadata": {}
    },
    {
     "output_type": "display_data",
     "data": {
      "text/plain": "       Type  Rooms  Distance  Postcode  Bedroom2  Bathroom\n29561     0      4        20      3059         4         3\n11168     0      2         1      3053         2         1\n34077     0      3         7      3124         3         2\n9025      2      2        11      3084         2         1\n11556     0      5        12      3083         5         2\n...     ...    ...       ...       ...       ...       ...\n5308      2      2         4      3122         2         1\n4995      2      2        13      3188         2         1\n25145     0      4        18      3029         4         2\n1941      0      3        11      3186         3         2\n22155     0      3        27      3024         3         2\n\n[6240 rows x 6 columns]",
      "text/html": "<div>\n<style scoped>\n    .dataframe tbody tr th:only-of-type {\n        vertical-align: middle;\n    }\n\n    .dataframe tbody tr th {\n        vertical-align: top;\n    }\n\n    .dataframe thead th {\n        text-align: right;\n    }\n</style>\n<table border=\"1\" class=\"dataframe\">\n  <thead>\n    <tr style=\"text-align: right;\">\n      <th></th>\n      <th>Type</th>\n      <th>Rooms</th>\n      <th>Distance</th>\n      <th>Postcode</th>\n      <th>Bedroom2</th>\n      <th>Bathroom</th>\n    </tr>\n  </thead>\n  <tbody>\n    <tr>\n      <th>29561</th>\n      <td>0</td>\n      <td>4</td>\n      <td>20</td>\n      <td>3059</td>\n      <td>4</td>\n      <td>3</td>\n    </tr>\n    <tr>\n      <th>11168</th>\n      <td>0</td>\n      <td>2</td>\n      <td>1</td>\n      <td>3053</td>\n      <td>2</td>\n      <td>1</td>\n    </tr>\n    <tr>\n      <th>34077</th>\n      <td>0</td>\n      <td>3</td>\n      <td>7</td>\n      <td>3124</td>\n      <td>3</td>\n      <td>2</td>\n    </tr>\n    <tr>\n      <th>9025</th>\n      <td>2</td>\n      <td>2</td>\n      <td>11</td>\n      <td>3084</td>\n      <td>2</td>\n      <td>1</td>\n    </tr>\n    <tr>\n      <th>11556</th>\n      <td>0</td>\n      <td>5</td>\n      <td>12</td>\n      <td>3083</td>\n      <td>5</td>\n      <td>2</td>\n    </tr>\n    <tr>\n      <th>...</th>\n      <td>...</td>\n      <td>...</td>\n      <td>...</td>\n      <td>...</td>\n      <td>...</td>\n      <td>...</td>\n    </tr>\n    <tr>\n      <th>5308</th>\n      <td>2</td>\n      <td>2</td>\n      <td>4</td>\n      <td>3122</td>\n      <td>2</td>\n      <td>1</td>\n    </tr>\n    <tr>\n      <th>4995</th>\n      <td>2</td>\n      <td>2</td>\n      <td>13</td>\n      <td>3188</td>\n      <td>2</td>\n      <td>1</td>\n    </tr>\n    <tr>\n      <th>25145</th>\n      <td>0</td>\n      <td>4</td>\n      <td>18</td>\n      <td>3029</td>\n      <td>4</td>\n      <td>2</td>\n    </tr>\n    <tr>\n      <th>1941</th>\n      <td>0</td>\n      <td>3</td>\n      <td>11</td>\n      <td>3186</td>\n      <td>3</td>\n      <td>2</td>\n    </tr>\n    <tr>\n      <th>22155</th>\n      <td>0</td>\n      <td>3</td>\n      <td>27</td>\n      <td>3024</td>\n      <td>3</td>\n      <td>2</td>\n    </tr>\n  </tbody>\n</table>\n<p>6240 rows × 6 columns</p>\n</div>"
     },
     "metadata": {}
    },
    {
     "output_type": "display_data",
     "data": {
      "text/plain": "29561     679000\n11168    1117000\n34077    1550000\n9025      635000\n11556    1000000\n          ...   \n5308      663000\n4995      895000\n25145     580000\n1941     1600000\n22155     475000\nName: Price, Length: 6240, dtype: int64"
     },
     "metadata": {}
    }
   ],
   "source": [
    "from sklearn.model_selection import train_test_split\n",
    "\n",
    "i_train, i_test, o_train, o_test = train_test_split(data_X, data_Y, test_size=0.3, random_state=1)\n",
    "display(i_train, o_train)\n",
    "display(i_test, o_test)"
   ]
  },
  {
   "source": [
    "# Модель ближайших соседей"
   ],
   "cell_type": "markdown",
   "metadata": {}
  },
  {
   "cell_type": "code",
   "execution_count": 7,
   "metadata": {},
   "outputs": [
    {
     "output_type": "execute_result",
     "data": {
      "text/plain": [
       "(0.7626388053776699, 0.7091644437134044)"
      ]
     },
     "metadata": {},
     "execution_count": 7
    }
   ],
   "source": [
    "from sklearn.neighbors import KNeighborsRegressor\n",
    "from sklearn.metrics import r2_score\n",
    "\n",
    "reg1 = KNeighborsRegressor(n_neighbors=5)\n",
    "reg1.fit(i_train, o_train)\n",
    "r2_score(o_train, reg1.predict(i_train)), r2_score(o_test, reg1.predict(i_test))"
   ]
  },
  {
   "cell_type": "code",
   "execution_count": 8,
   "metadata": {},
   "outputs": [
    {
     "output_type": "execute_result",
     "data": {
      "text/plain": [
       "(array([0.63693259, 0.66049393, 0.66720708, 0.69694129]), 0.6653937203148237)"
      ]
     },
     "metadata": {},
     "execution_count": 8
    }
   ],
   "source": [
    "from sklearn.model_selection import cross_val_score\n",
    "scores = cross_val_score(reg1, data_X, data_Y, cv=4)\n",
    "scores, np.mean(scores)"
   ]
  },
  {
   "cell_type": "code",
   "execution_count": 9,
   "metadata": {},
   "outputs": [
    {
     "output_type": "execute_result",
     "data": {
      "text/plain": [
       "(0.7102638528755844, {'n_neighbors': 10}, KNeighborsRegressor(n_neighbors=10))"
      ]
     },
     "metadata": {},
     "execution_count": 9
    }
   ],
   "source": [
    "from sklearn.model_selection import GridSearchCV, RepeatedKFold\n",
    "\n",
    "grid = GridSearchCV(\n",
    "  estimator=KNeighborsRegressor(),\n",
    "  param_grid={\n",
    "    \"n_neighbors\": range(1, 50, 1)\n",
    "  },\n",
    "  cv=RepeatedKFold(n_splits=3, n_repeats=3),\n",
    "  scoring=\"r2\",\n",
    ")\n",
    "\n",
    "grid.fit(data_X, data_Y)\n",
    "grid.best_score_, grid.best_params_, grid.best_estimator_"
   ]
  },
  {
   "cell_type": "code",
   "execution_count": 10,
   "metadata": {},
   "outputs": [
    {
     "output_type": "execute_result",
     "data": {
      "text/plain": [
       "(0.7541344860569129, 0.7276936893702255)"
      ]
     },
     "metadata": {},
     "execution_count": 10
    }
   ],
   "source": [
    "grid.best_estimator_.fit(i_train, o_train)\n",
    "r2_score(o_train, grid.best_estimator_.predict(i_train)), r2_score(o_test, grid.best_estimator_.predict(i_test))"
   ]
  },
  {
   "cell_type": "code",
   "execution_count": 11,
   "metadata": {},
   "outputs": [
    {
     "output_type": "stream",
     "name": "stdout",
     "text": [
      "0.71 r^2 with a standard deviation of 0.01\n"
     ]
    }
   ],
   "source": [
    "scores = cross_val_score(grid.best_estimator_, data_X, data_Y, cv=RepeatedKFold(n_splits=3, n_repeats=3))\n",
    "print(\"%0.2f r^2 with a standard deviation of %0.2f\" % (scores.mean(), scores.std()))"
   ]
  }
 ]
}